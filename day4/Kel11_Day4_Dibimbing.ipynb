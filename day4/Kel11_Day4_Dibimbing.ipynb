{
  "nbformat": 4,
  "nbformat_minor": 0,
  "metadata": {
    "colab": {
      "provenance": []
    },
    "kernelspec": {
      "name": "python3",
      "display_name": "Python 3"
    },
    "language_info": {
      "name": "python"
    }
  },
  "cells": [
    {
      "cell_type": "markdown",
      "source": [
        "Kelompok 11 SIB\n",
        "\n",
        "1. Chintya Dewi Prawitasuri\n",
        "2. Dhevita Intan Ervandra\n",
        "3. Dimas Wahyu Saputro\n",
        "4. Fionjufo Fahrezi\n",
        "5. Navi Latul Ulya"
      ],
      "metadata": {
        "id": "pVIU6suVmpz2"
      }
    },
    {
      "cell_type": "markdown",
      "source": [
        "# Soal\n",
        "\n",
        "Buatlah sebuah program untuk menghitung luas n bangun datar yang terdiri dari:\n",
        "\n",
        "```\n",
        "Persegi\n",
        "Persegi panjang\n",
        "Segitiga\n",
        "Lingkaran (gunakan 3.14 untuk nilai pi)\n",
        "Trapesium\n",
        "```\n",
        "\n",
        "\n",
        "Permintaan masukan harus disesuaikan dengan bangun datar yang akan dihitung luasnya, e.g. jika persegi, maka program hanya akan meminta satu masukan, i.e. sisi. Setelah didapatkan n luas bangun datar, urutkan luas bangun datar dari terkecil hingga terbesar dan hitung total luas bangun datar tersebut!\n",
        "\n",
        "\n",
        "\n",
        "\n",
        "Buatlah penyelesaian kasus tersebut dalam paradigma pemrograman berorientasi objek!\n",
        "\n",
        "\n",
        "\n",
        "\n",
        "Petunjuk: Anda perlu membuat kelas parent dengan nama BangunDatar. Kelas BangunDatar akan memiliki metode kosong bernama hitung luas()."
      ],
      "metadata": {
        "id": "UpZT_CiFjlAi"
      }
    },
    {
      "cell_type": "markdown",
      "source": [
        "# Jawaban"
      ],
      "metadata": {
        "id": "9IUEWDWNmupk"
      }
    },
    {
      "cell_type": "code",
      "source": [
        "class BangunDatar: # parent class\n",
        "    def hitung_luas(self):\n",
        "        pass\n",
        "\n",
        "class Persegi(BangunDatar): # do inheritence\n",
        "    def __init__(self, sisi):\n",
        "        self.sisi = sisi\n",
        "\n",
        "    def hitung_luas(self): # will override method parent class\n",
        "        return self.sisi ** 2\n",
        "\n",
        "class PersegiPanjang(BangunDatar):\n",
        "    def __init__(self, panjang, lebar):\n",
        "        self.panjang = panjang\n",
        "        self.lebar = lebar\n",
        "\n",
        "    def hitung_luas(self):\n",
        "        return self.panjang * self.lebar\n",
        "\n",
        "class Segitiga(BangunDatar):\n",
        "    def __init__(self, alas, tinggi):\n",
        "        self.alas = alas\n",
        "        self.tinggi = tinggi\n",
        "\n",
        "    def hitung_luas(self):\n",
        "        return 0.5 * self.alas * self.tinggi\n",
        "\n",
        "class Lingkaran(BangunDatar):\n",
        "    def __init__(self, radius):\n",
        "        self.radius = radius\n",
        "\n",
        "    def hitung_luas(self):\n",
        "        return 3.14 * self.radius * self.radius\n",
        "\n",
        "class Trapesium(BangunDatar):\n",
        "    def __init__(self, sisi1, sisi2, tinggi):\n",
        "        self.sisi1 = sisi1\n",
        "        self.sisi2 = sisi2\n",
        "        self.tinggi = tinggi\n",
        "\n",
        "    def hitung_luas(self):\n",
        "        return 0.5 * (self.sisi1 + self.sisi2) * self.tinggi"
      ],
      "metadata": {
        "id": "xgGjdNK_jkg8"
      },
      "execution_count": null,
      "outputs": []
    },
    {
      "cell_type": "code",
      "source": [
        "# Input jumlah bangun datar (n)\n",
        "n = int(input(\"Masukkan jumlah bangun datar: \"))\n",
        "\n",
        "# Inisialisasi daftar untuk menyimpan luas bangun datar\n",
        "luas_bangun_datar = []\n",
        "\n",
        "# Meminta input dan menghitung luas untuk masing-masing bangun datar\n",
        "for i in range(n):\n",
        "    jenis_bangun = input(\"Masukkan jenis bangun datar (persegi/persegi panjang/segitiga/lingkaran/trapesium): \")\n",
        "\n",
        "    if jenis_bangun == 'persegi':\n",
        "        sisi = float(input(\"Masukkan panjang sisi: \"))\n",
        "        bangun = Persegi(sisi)\n",
        "    elif jenis_bangun == 'persegi panjang':\n",
        "        panjang = float(input(\"Masukkan panjang: \"))\n",
        "        lebar = float(input(\"Masukkan lebar: \"))\n",
        "        bangun = PersegiPanjang(panjang, lebar)\n",
        "    elif jenis_bangun == 'segitiga':\n",
        "        alas = float(input(\"Masukkan alas: \"))\n",
        "        tinggi = float(input(\"Masukkan tinggi: \"))\n",
        "        bangun = Segitiga(alas, tinggi)\n",
        "    elif jenis_bangun == 'lingkaran':\n",
        "        radius = float(input(\"Masukkan radius: \"))\n",
        "        bangun = Lingkaran(radius)\n",
        "    elif jenis_bangun == 'trapesium':\n",
        "        sisi1 = float(input(\"Masukkan panjang sisi pertama: \"))\n",
        "        sisi2 = float(input(\"Masukkan panjang sisi kedua: \"))\n",
        "        tinggi = float(input(\"Masukkan tinggi: \"))\n",
        "        bangun = Trapesium(sisi1, sisi2, tinggi)\n",
        "    else:\n",
        "        print(\"Jenis bangun datar tidak valid\")\n",
        "        continue\n",
        "\n",
        "    luas = bangun.hitung_luas()\n",
        "    luas_bangun_datar.append((jenis_bangun, luas))\n",
        "\n",
        "# Mengurutkan daftar luas bangun datar dari terkecil hingga terbesar\n",
        "luas_bangun_datar.sort(key=lambda x: x[1])\n",
        "\n",
        "# Menampilkan hasil\n",
        "print(\"\\nLuas Bangun Datar:\")\n",
        "total_luas = 0\n",
        "for jenis, luas in luas_bangun_datar:\n",
        "    print(f\"{jenis}: {luas}\")\n",
        "    total_luas += luas\n",
        "\n",
        "print(\"\\nTotal Luas Bangun Datar:\", total_luas)"
      ],
      "metadata": {
        "id": "VfMFBLcYnn3s",
        "colab": {
          "base_uri": "https://localhost:8080/"
        },
        "outputId": "cc545344-96f0-468d-9a74-978e02df97d2"
      },
      "execution_count": null,
      "outputs": [
        {
          "output_type": "stream",
          "name": "stdout",
          "text": [
            "Masukkan jumlah bangun datar: 2\n",
            "Masukkan jenis bangun datar (persegi/persegi panjang/segitiga/lingkaran/trapesium): persegi\n",
            "Masukkan panjang sisi: 5\n",
            "Masukkan jenis bangun datar (persegi/persegi panjang/segitiga/lingkaran/trapesium): lingkaran\n",
            "Masukkan radius: 25\n",
            "\n",
            "Luas Bangun Datar:\n",
            "persegi: 25.0\n",
            "lingkaran: 1962.5\n",
            "\n",
            "Total Luas Bangun Datar: 1987.5\n"
          ]
        }
      ]
    }
  ]
}